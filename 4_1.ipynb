{
  "nbformat": 4,
  "nbformat_minor": 0,
  "metadata": {
    "colab": {
      "provenance": [],
      "authorship_tag": "ABX9TyO6mLOmntThHNzCAkStQXXt",
      "include_colab_link": true
    },
    "kernelspec": {
      "name": "python3",
      "display_name": "Python 3"
    },
    "language_info": {
      "name": "python"
    }
  },
  "cells": [
    {
      "cell_type": "markdown",
      "metadata": {
        "id": "view-in-github",
        "colab_type": "text"
      },
      "source": [
        "<a href=\"https://colab.research.google.com/github/joshtenorio/mat494-mathmethods-datasci/blob/main/4_1.ipynb\" target=\"_parent\"><img src=\"https://colab.research.google.com/assets/colab-badge.svg\" alt=\"Open In Colab\"/></a>"
      ]
    },
    {
      "cell_type": "markdown",
      "source": [
        "# 4.1 Homework\n",
        "Networks can be modeled by graphs.\n",
        "The individuals within a network are nodes and edges are the relationships between nodes.\n",
        "## 4.1.1 Graph Models\n",
        "A graph consists of a set of objects and edges.\n",
        "Specifically, a graph $G$ is denoted as $G(V,E)$, where $V$ is the set of nodes and $E$ is a set of edges, which are represented by their endpoints (e.g., $e(v_1,v_2)$).\n",
        "These edges can also be directed and have weights.\n",
        "\n",
        "A sequence of edges where nodes and edges are distinct is called a path, and a closed path is a cycle.\n",
        "\n",
        "The degree of a node (the number of edges connected to it) plays a significant role in the study of graphs.\n",
        "\n",
        "## 4.1.2 Laplacian Matrix\n",
        "Graphs can also be represented by matrices.\n",
        "For instance, a graph with $n$ nodes can be represented by a $n\\times{n}$ adjacency matrix where each value in the matrix represents the existence of an edge.\n",
        "\n",
        "With an adjacency matrix, it is possible to use a vector $c$ to describe the significance of each node by setting up $\\lambda{c}=Ac$ and solving for the eigenvalues.\n",
        "\n",
        "A Laplacian matrix, another matrix representation of a graph, is defined elementwise for a graph $G$ with $n$ vertices by:\n",
        "\\begin{align*}\n",
        "&= \\text{deg}(v_i)\\text{ if }i=j\\\\\n",
        "L_{i,j} &= -1 \\text{ if } i\\neq j \\land v_i\\text{ is adjacent to }v_j\\\\\n",
        "&= 0\\text{ otherwise}\n",
        "\\end{align*}\n",
        "or equivalently by $L=D-A$ where $D$ is the degree matrix and $A$ is the adjacency matrix.\n",
        "\n",
        "Laplacian matrices relates to many useful properties of a graph.\n",
        "For instance if a graph has $c$ connected components, then its Laplacian matrix will have $c$ eigenvalues that are 0."
      ],
      "metadata": {
        "id": "z7YalqnubLgM"
      }
    }
  ]
}