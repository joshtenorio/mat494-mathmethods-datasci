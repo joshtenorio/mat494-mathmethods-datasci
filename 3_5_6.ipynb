{
  "nbformat": 4,
  "nbformat_minor": 0,
  "metadata": {
    "colab": {
      "provenance": [],
      "authorship_tag": "ABX9TyNwO+qdnYfnQwVRMjk3ji9t",
      "include_colab_link": true
    },
    "kernelspec": {
      "name": "python3",
      "display_name": "Python 3"
    },
    "language_info": {
      "name": "python"
    }
  },
  "cells": [
    {
      "cell_type": "markdown",
      "metadata": {
        "id": "view-in-github",
        "colab_type": "text"
      },
      "source": [
        "<a href=\"https://colab.research.google.com/github/joshtenorio/mat494-mathmethods-datasci/blob/main/3_5_6.ipynb\" target=\"_parent\"><img src=\"https://colab.research.google.com/assets/colab-badge.svg\" alt=\"Open In Colab\"/></a>"
      ]
    },
    {
      "cell_type": "markdown",
      "source": [
        "# 3.5/3.6 Homework\n",
        "## 3.5 K-means\n",
        "$k$-means clustering is a popular method of vector quantization that aims to partition $n$ observations into $k$ clusters in which each observation belongs to th ecluster with the nearest mean.\n",
        "This minimizes within-cluster variances (i.e., squared Euclidean distances) but not regular Euclidean distances.\n",
        "$k$-means generally converge quickly to a local optimum, however the problem is labelled NP-hard.\n",
        "\n",
        "The specific definition is as follows:\n",
        "Given a $(x_1,x_2,...,x_n)$ where each observation is a $d$-dimensional real vector, k-means clustering aims to partition the $n$ observations into $k$ sets $S=\\{S_1,...,S_k\\}$ such that the within-cluster sum of squares (WCSS) is minimized.\n",
        "\n",
        "Scipy has an implementation of the k-means algorithm, with steps outlined below:\n",
        "1. Cluster data into $k$ groups where $k$ is predefined.\n",
        "2. Select $k$ points at random as cluster centers\n",
        "3. Assign objects to their closest cluster center according to the Euclidean distance function\n",
        "4. Calculate the mean of all objects in each cluster.\n",
        "5. Repeat 2,3,4 until the same points are assigned to each cluster in consecutive rounds."
      ],
      "metadata": {
        "id": "5yAVlqlrR4LA"
      }
    },
    {
      "cell_type": "code",
      "source": [
        "import numpy as np\n",
        "from scipy.cluster.vq import vq, kmeans, whiten\n",
        "import matplotlib.pyplot as plt\n",
        "\n",
        "# Create 200 datapoints in two clusters a and b\n",
        "pts = 200\n",
        "rng = np.random.default_rng()\n",
        "a = rng.multivariate_normal([0, 0], [[4, 1], [1, 4]], size=pts)\n",
        "b = rng.multivariate_normal([30, 10],\n",
        "                            [[10, 2], [2, 1]],\n",
        "                            size=pts)\n",
        "features = np.concatenate((a, b))\n",
        "\n",
        "# Whiten data\n",
        "whitened = whiten(features)\n",
        "\n",
        "# Find 2 clusters in the data\n",
        "codebook, distortion = kmeans(whitened, 2)\n",
        "\n",
        "# Plot whitened data and cluster centers in red\n",
        "plt.scatter(whitened[:, 0], whitened[:, 1])\n",
        "plt.scatter(codebook[:, 0], codebook[:, 1], c='r')\n",
        "plt.show()"
      ],
      "metadata": {
        "colab": {
          "base_uri": "https://localhost:8080/",
          "height": 265
        },
        "id": "KUMRn4FdVXj_",
        "outputId": "d1796bb1-f225-43b6-ced1-d3ada2a9d87b"
      },
      "execution_count": 5,
      "outputs": [
        {
          "output_type": "display_data",
          "data": {
            "text/plain": [
              "<Figure size 432x288 with 1 Axes>"
            ],
            "image/png": "[encoded data removed]"
          },
          "metadata": {
            "needs_background": "light"
          }
        }
      ]
    },
    {
      "cell_type": "markdown",
      "source": [
        "## 3.6 Support Vector Machines\n",
        "Support-vector machines (SVMs) are supervised learning models that aim to analyze data for classification and regression analysis.\n",
        "The goal is that given a set of training examples (each marked as belonging to one of two categories) an SVM training algorithm would build a model that assigns new examples to one category or the other.\n",
        "In otherwords an SVM maps training examples to pionts in space such that the width of the gap between the two categoreis is maximized, and predictions of new data are based on which side of the gap they fall."
      ],
      "metadata": {
        "id": "HXloxN72XtKB"
      }
    }
  ]
}