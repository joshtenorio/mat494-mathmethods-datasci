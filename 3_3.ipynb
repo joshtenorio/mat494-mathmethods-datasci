{
  "nbformat": 4,
  "nbformat_minor": 0,
  "metadata": {
    "colab": {
      "provenance": [],
      "authorship_tag": "ABX9TyMOqeVQT5E6nZ3Ex0DnzNEZ",
      "include_colab_link": true
    },
    "kernelspec": {
      "name": "python3",
      "display_name": "Python 3"
    },
    "language_info": {
      "name": "python"
    }
  },
  "cells": [
    {
      "cell_type": "markdown",
      "metadata": {
        "id": "view-in-github",
        "colab_type": "text"
      },
      "source": [
        "<a href=\"https://colab.research.google.com/github/joshtenorio/mat494-mathmethods-datasci/blob/main/3_3.ipynb\" target=\"_parent\"><img src=\"https://colab.research.google.com/assets/colab-badge.svg\" alt=\"Open In Colab\"/></a>"
      ]
    },
    {
      "cell_type": "markdown",
      "source": [
        "# 3.3 Homework\n",
        "# 3.3.1 Necessary and Sufficient Conditions of Local Minimizers\n",
        "Global minimizers are generally difficult to find.\n",
        "On the other hand local minimizers are easier.\n",
        "Local minimizers are defined as a point $x^*\\in\\mathbb{R}^d$ if there is $\\delta>0$ such that\n",
        "\\begin{equation*}\n",
        "f(x) \\geq f(x^*), \\forall x\\in B_\\delta(x^*)\\setminus \\{x^*\\}\n",
        "\\end{equation*}\n",
        "In other words, $x^*$ is a local minimizer if there is an open ball around it where it is the minimum value.\n",
        "\n",
        "$v$ is a descent direction if the directional derivative of $f$ at $x_0$ in the direction $v$ is negative.\n",
        "# 3.3.2 Convexity and Global Minimizers\n",
        "A real-valued function is convex if the line segment between any two points of the function lies above the graph between the two points.\n",
        "# 3.3.3 Gradient Descent\n",
        "Gradient descent is an iterative optimization algorithm for finding a local minimum of a differentiable function.\n",
        "We can use gradient descent method algorithms for solving optimization problems numerically.\n",
        "For now, we only look at unconstrained minimization problems of the form\n",
        "\\begin{equation*}\n",
        "\\min_{x\\in\\mathbb{R}^d} f(\\boldsymbol{x})\n",
        "\\end{equation*}\n",
        "A good way to approach this problem is to find all stationary points of $f$, i.e., points where $\\nabla f(x)=0$, then choose $x$ that has the smallest value of $f(x)$.\n",
        "\n",
        "## Steepest Descent\n",
        "Another approach is to find smaller values of $f$ by continuously following directions in which $f$ decreases."
      ],
      "metadata": {
        "id": "R-UUSN6RGWow"
      }
    }
  ]
}