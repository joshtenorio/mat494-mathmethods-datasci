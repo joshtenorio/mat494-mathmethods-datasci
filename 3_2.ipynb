{
  "nbformat": 4,
  "nbformat_minor": 0,
  "metadata": {
    "colab": {
      "provenance": [],
      "authorship_tag": "ABX9TyO3K5isVQ4b5Glb3+gYUz27",
      "include_colab_link": true
    },
    "kernelspec": {
      "name": "python3",
      "display_name": "Python 3"
    },
    "language_info": {
      "name": "python"
    }
  },
  "cells": [
    {
      "cell_type": "markdown",
      "metadata": {
        "id": "view-in-github",
        "colab_type": "text"
      },
      "source": [
        "<a href=\"https://colab.research.google.com/github/joshtenorio/mat494-mathmethods-datasci/blob/main/3_2.ipynb\" target=\"_parent\"><img src=\"https://colab.research.google.com/assets/colab-badge.svg\" alt=\"Open In Colab\"/></a>"
      ]
    },
    {
      "cell_type": "code",
      "execution_count": null,
      "metadata": {
        "id": "StW3ws_dy6jZ"
      },
      "outputs": [],
      "source": []
    },
    {
      "cell_type": "markdown",
      "source": [
        "# 3.2 Homework\n",
        "## 3.2.1 Limits and Continuity\n",
        "Limits are used to define continuity, derivatives, and integrals.\n",
        "## 3.2.2 Derivatives\n",
        "Derivatives of a function of a real variable measures the sensitivity to change of its output with respect to another variable.\n",
        "For the single variable case, the derivative of $f$ at $x_0$ is\n",
        "\\begin{gather}\n",
        "f'(x_0)=\\frac{df(x_0)}{dx}=\\lim_{h\\to0}\\frac{f(x_0+h)-f(x_0)}{h}\n",
        "\\end{gather}\n",
        "provided the limit exists.\n",
        "\n",
        "Derivatives can help us find extremas (i.e. where the derivative is equal to zero) and can tell us about what a function might look like in a continuous set of the domain.\n",
        "For example, Rolle's theorem says that a continuous function $f:[a,b]\\to\\mathbb{R}$ that is assumed to be differentiable on $(a,b)$ and if $f(a)=f(b)$ then there exists $a<c<b$ such that $f'(c)=0$.\n",
        "\n",
        "The Chain Rule is a formula that expresses the derivative of the composition of two or more differentiable functions in terms of the derivative of each of them.\n",
        "It gives a formula for the Jacobian of a composition.\n",
        "Specifically, let $x$ be in the domain of $f$.\n",
        "If $f$ is assumed to be continuously differentiable at $x$, and $g$ is continuously differentiable at $f(x)$ (which is in the domain of $g$) then $J_{g\\circ f}(x) = J_g(f(x))J_f(x)$ as a product of matrices.\n",
        "## 3.2.3 Taylor's Theorem\n",
        "Taylor's theorem gives an approximation of a differentiable function around a given point by a polynomial.\n",
        "It is a powerful generalization of the MVT that provides polynomial approximations to a function around a point, which can be used to prove theorems about optimization.\n"
      ],
      "metadata": {
        "id": "uGk6a8f90oPQ"
      }
    }
  ]
}