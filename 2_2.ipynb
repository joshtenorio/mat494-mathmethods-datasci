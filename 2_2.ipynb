{
  "nbformat": 4,
  "nbformat_minor": 0,
  "metadata": {
    "colab": {
      "provenance": [],
      "authorship_tag": "ABX9TyN1O5Z065G3H3X9ZyrxSb71",
      "include_colab_link": true
    },
    "kernelspec": {
      "name": "python3",
      "display_name": "Python 3"
    },
    "language_info": {
      "name": "python"
    }
  },
  "cells": [
    {
      "cell_type": "markdown",
      "metadata": {
        "id": "view-in-github",
        "colab_type": "text"
      },
      "source": [
        "<a href=\"https://colab.research.google.com/github/joshtenorio/mat494-mathmethods-datasci/blob/main/2_2.ipynb\" target=\"_parent\"><img src=\"https://colab.research.google.com/assets/colab-badge.svg\" alt=\"Open In Colab\"/></a>"
      ]
    },
    {
      "cell_type": "markdown",
      "source": [
        "# 2.2 Homework\n",
        "## 2.2.2 Conditional Probability\n",
        "Conditional probability is defined as the likelihood of an event or outcome occuring based on the occurence of a previous event or outcome.\n",
        "A given B occurred is denoted as P(A|B) and is calculated by P(A∩B)/P(B).\n",
        "\n",
        "This can also be rewritten as P(A∩B)=P(A|B)*P(B).\n",
        "### Independent Events\n",
        "Two events A and B are independent if P(A|B) = P(A), or P(A∩B)=P(A)*P(B).\n",
        "This can be also be extended for more than two events.\n"
      ],
      "metadata": {
        "id": "BsiY6IQMJ5Re"
      }
    },
    {
      "cell_type": "code",
      "execution_count": 1,
      "metadata": {
        "id": "eZy1raChJ2Xq",
        "colab": {
          "base_uri": "https://localhost:8080/"
        },
        "outputId": "d9887007-ad50-40ac-9348-1120d4a56ce8"
      },
      "outputs": [
        {
          "output_type": "stream",
          "name": "stdout",
          "text": [
            "P(AnB) = 0.0645\n"
          ]
        }
      ],
      "source": [
        "# calculating P(AnB)\n",
        "b = 0.43 # suppose probability of event B is .43\n",
        "a_b = 0.15 # suppose probability of A given B occuring is .15\n",
        "print(\"P(AnB) = \" + str(a_b*b))"
      ]
    },
    {
      "cell_type": "markdown",
      "source": [],
      "metadata": {
        "id": "DzokD_6ynPiY"
      }
    },
    {
      "cell_type": "markdown",
      "source": [
        "## 2.2.3 Discrete Random Variables\n",
        "A random variable is a measurable function defined on a probability space that maps from the sample space to the real numbers $\\mathbb{R}$.\n",
        "### Discrete Random Variables\n",
        "These are random variables whose possible values either constitute a finite set or can be listed in an infite sequence.\n",
        "A random variable is continuous if both:\n",
        "1. Its set of possible values consist all numbers in a single interval on the number line\n",
        "2. $P(X=c)=0$ for any possible individual value $c$.\n",
        "\n",
        "We want to know how the total probability of 1 is distrubted among the various possible $X$ values.\n",
        "A probability mass function (pmf) gives us the probability that a discrete random variable is exactly equal to some value.\n",
        "The pmf of a discrete random variable is defined for every number $x$ by\n",
        "$p(x)=P(X=x)=P($all $s\\in S:X(s)=x)$.\n",
        "\n",
        "On the other hand the cumulative distribution function (cdf) $F(x)$ of a discrete random variable $X$ is defined for every number $x$ by $F(x)=P(X\\leq x)=\\sum_{y:y\\leq x}p(y)$.\n",
        "\n",
        "### Bernoulli Random Variable\n",
        "This type of random variable has only two possible values associated with it: 0, or 1 (i.e. failure or success).\n",
        "\n",
        "The binomial random variable $X$ is associated with $n$trials of a Bernoulli experiment where $X=$ the number of successes among $n$ trials.\n",
        "### Poisson Distribution\n",
        "This is a discrete probability distribution that describes the probability of a given number of events occurring in a fixed interval of time or space if the events occur with a known constant mean rate and are independent of the time since the last event.\n",
        "Some examples of this can include patient arrivals during a shift or aircraft engine shutdowns per 100,000 flight hours.\n",
        "### Expected Values/Variance for X\n",
        "The expected value of a random variable $X$ is a generalized weighted average, and denoted by $E(X)=\\mu_X=\\mu=\\Sigma_{x\\in D}x\\cdot p(x)$.\n",
        "\n",
        "Variance can be calculated by $V(X)=\\sigma_x^2=\\Sigma_D(x-\\mu)^2\\cdot p(x)=E((X-\\mu)^2)$.\n",
        "\n",
        "Standard deviation of $X$ is $\\sigma_x=\\sqrt{\\sigma_X^2}$.\n",
        "### 2.2.4 Continuous Random Variables\n",
        "A random variable $X$ is continuous if possible values comprise of an interval or union of disjoint intervals.\n",
        "\n",
        "As such the probability density function (pdf) of $X$ is $P(A\\leq X\\leq b)=\\int_a^bf(x)dx$.\n",
        "\n",
        "The expected value and variance of a continuous random variable can be calculated similarly as a discrete random variable, with the key difference being that integrals are used instead of summations.\n",
        "\n",
        "### Normal Distribution\n",
        "Normal distributions are useful in natural and oscial sciences to represent real-valued random variables whose distributions are not known.\n",
        "\n",
        "If $X$ has a normal distribution with mean $\\mu$ and standard deviation $\\sigma$ then $Z=(X-\\mu)/\\sigma$ has a standard normal distribution.\n",
        "# Scipy, Matplotlib\n",
        "Scipy is a Python library that includes some modules useful for statistics.\n",
        "\n",
        "We can also use matplotlib to generate figures and plots.\n"
      ],
      "metadata": {
        "id": "qmwFXQ8fnPk8"
      }
    },
    {
      "cell_type": "code",
      "source": [
        "from scipy.stats import norm\n",
        "import numpy as np\n",
        "import matplotlib.pyplot as plt\n",
        "\n",
        "fig, ax = plt.subplots(1, 1)\n",
        "mean, var, skew, kurt = norm.stats(moments='mvsk')\n",
        "x = np.linspace(norm.ppf(0.01), norm.ppf(0.99), 100)\n",
        "\n",
        "# plot normal distribution\n",
        "ax.plot(x, norm.pdf(x), 'r-', lw=5, alpha=0.6, label='norm pdf')\n",
        "\n",
        "# generate random numbers and a histogram\n",
        "r = norm.rvs(size=1000)\n",
        "ax.hist(r, density=True, histtype='stepfilled', alpha=0.2)\n",
        "\n",
        "ax.legend(loc='best', frameon=False)\n",
        "\n",
        "plt.show()"
      ],
      "metadata": {
        "colab": {
          "base_uri": "https://localhost:8080/",
          "height": 265
        },
        "id": "3pHstWa-qkrt",
        "outputId": "f88f0257-4be0-4252-8cc1-2156c0b04fc5"
      },
      "execution_count": 6,
      "outputs": [
        {
          "output_type": "display_data",
          "data": {
            "text/plain": [
              "<Figure size 432x288 with 1 Axes>"
            ],
            "image/png": "[encoded data removed]"
          },
          "metadata": {
            "needs_background": "light"
          }
        }
      ]
    }
  ]
}