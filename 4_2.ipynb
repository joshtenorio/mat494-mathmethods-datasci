{
  "nbformat": 4,
  "nbformat_minor": 0,
  "metadata": {
    "colab": {
      "provenance": [],
      "authorship_tag": "ABX9TyOWKAoOzHXvPENY7u+VyhZs",
      "include_colab_link": true
    },
    "kernelspec": {
      "name": "python3",
      "display_name": "Python 3"
    },
    "language_info": {
      "name": "python"
    }
  },
  "cells": [
    {
      "cell_type": "markdown",
      "metadata": {
        "id": "view-in-github",
        "colab_type": "text"
      },
      "source": [
        "<a href=\"https://colab.research.google.com/github/joshtenorio/mat494-mathmethods-datasci/blob/main/4_2.ipynb\" target=\"_parent\"><img src=\"https://colab.research.google.com/assets/colab-badge.svg\" alt=\"Open In Colab\"/></a>"
      ]
    },
    {
      "cell_type": "markdown",
      "source": [
        "# 4.2 Homework\n",
        "Graph partitioning aims to find out a partition such that the cut (the total number of edges between two disjoint sets of nodes) is minimized.\n",
        "As such for a weighted graph $G=(V,E)$, given a bipartition of $V$ into disjoint $V_1$ and $V_2$ the cut between them can be defined as\n",
        "\\begin{equation*}\n",
        "cut(V_1,V_2)=\\Sigma_{i\\in{V_1},j\\in_{V_2}}M_{ij}\n",
        "\\end{equation*}\n",
        "As such at a high level graph partitioning partitions a set of nodes into mutually exclusive groups.\n",
        "\n",
        "The classical graph bipartitioning problem is to find nearly equally-sized vertext subsets $V_i,V_2$ of $V$ such that $cut(V_1^*,V_2^*)=min_{V_1,V_2}cut(V_1,V_2)$.\n",
        "Cuts can be characterized by the Rayleigh Quotient.\n",
        "\n",
        "We also want an objective function to balance cuts such that partitions that have a small cut value and are balanced are favored.\n",
        "There are many types of cut functions, such as ratio-cut and normalized-cut.\n"
      ],
      "metadata": {
        "id": "C6nRNbcPZ8dy"
      }
    }
  ]
}