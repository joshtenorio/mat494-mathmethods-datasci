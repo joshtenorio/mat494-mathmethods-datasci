{
  "nbformat": 4,
  "nbformat_minor": 0,
  "metadata": {
    "colab": {
      "provenance": [],
      "authorship_tag": "ABX9TyMF6R2DuzgwronEvfZPh/wB",
      "include_colab_link": true
    },
    "kernelspec": {
      "name": "python3",
      "display_name": "Python 3"
    },
    "language_info": {
      "name": "python"
    }
  },
  "cells": [
    {
      "cell_type": "markdown",
      "metadata": {
        "id": "view-in-github",
        "colab_type": "text"
      },
      "source": [
        "<a href=\"https://colab.research.google.com/github/joshtenorio/mat494-mathmethods-datasci/blob/main/3_4.ipynb\" target=\"_parent\"><img src=\"https://colab.research.google.com/assets/colab-badge.svg\" alt=\"Open In Colab\"/></a>"
      ]
    },
    {
      "cell_type": "markdown",
      "source": [
        "# 3.4 Homework\n",
        "Logistic regression is a model that uses a logistic function to model a binary dependent variable.\n",
        "One application is image classification.\n",
        "The input data consists of a vector of real numbers that represents the features, and a binary value that represents the label of the feature.\n",
        "In other words it is $\\{(\\alpha_i,b_i):i-1,...,n\\}$.\n",
        "The goal is to find a function of the features that approximates the probability of the label.\n",
        "\n",
        "We can use gradient descent on binary classification via logistic regression.\n",
        "By using the chain rule to calculate the derivative of the sigmoid function $\\sigma(t)$ we can conclude that the sigmoid function satisfies the logistic differential equation.\n",
        "We can use the result to then compute the gradient and the Hessian.\n",
        "\n",
        "In summary the iteration formula, for step size of $\\beta$, one step of gradient descent is\n",
        "\\begin{equation*}\n",
        "\\mathbf{x}^{k+1}=\\mathbf{x}^k+\\beta\\frac{1}{n}\\Sigma_{i=1}^n(b_i-\\sigma(\\alpha_i^T\\mathbf{x}^k))\\alpha_i\n",
        "\\end{equation*}"
      ],
      "metadata": {
        "id": "ZeB6V50xGF7q"
      }
    }
  ]
}