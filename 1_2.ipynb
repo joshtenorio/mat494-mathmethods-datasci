{
  "nbformat": 4,
  "nbformat_minor": 0,
  "metadata": {
    "colab": {
      "name": "1-2.ipynb",
      "provenance": []
    },
    "kernelspec": {
      "name": "python3",
      "display_name": "Python 3"
    },
    "language_info": {
      "name": "python"
    }
  },
  "cells": [
    {
      "cell_type": "markdown",
      "source": [
        "# MAT 494 - 1.2 Homework\n",
        "\n",
        "\n",
        "## NumPy\n",
        "The built in lists in Python can be used for scientific computing purposes, but the NumPy library introduces functionality that makes it easier to conduct scientific computing using Python, such as n-dimensional arrays of homogeneous data types which allow for operations that are executed more efficiently."
      ],
      "metadata": {
        "id": "abdJUkU37Bxm"
      }
    },
    {
      "cell_type": "code",
      "execution_count": 2,
      "metadata": {
        "colab": {
          "base_uri": "https://localhost:8080/"
        },
        "id": "s2eLE5Yp6W2J",
        "outputId": "aa1cde50-313c-4666-8506-46016aaf8e98"
      },
      "outputs": [
        {
          "output_type": "stream",
          "name": "stdout",
          "text": [
            "[[ 0  1  2  3  4]\n",
            " [ 5  6  7  8  9]\n",
            " [10 11 12 13 14]]\n",
            "[1. 1. 1. 1.]\n",
            "[0. 0. 0. 0.]\n",
            "[1 2 4 3]\n",
            "[[-0.27742221  0.21372473 -0.42998429  2.30125729]\n",
            " [ 0.9235406   1.59505079 -0.25998142 -0.34397396]\n",
            " [-1.12036081 -1.20926064 -0.39144646  0.00762121]\n",
            " [-0.08328764  0.00542761  0.74706593 -0.61719639]]\n",
            "[[1. 0. 0. 0. 0.]\n",
            " [0. 1. 0. 0. 0.]\n",
            " [0. 0. 1. 0. 0.]\n",
            " [0. 0. 0. 1. 0.]\n",
            " [0. 0. 0. 0. 1.]]\n"
          ]
        }
      ],
      "source": [
        "import numpy as np\n",
        "a1 = np.arange(15).reshape(3, 5) # creates a 1D array, then reshapes it into a 3x5 matrix\n",
        "a2 = np.ones(4) # a 1D array with 4 one's\n",
        "a3 = np.zeros(4) # same as above, but with zero's\n",
        "a4 = np.array( [1, 2, 4, 3] ) # specify an array\n",
        "print(a1)\n",
        "print(a2)\n",
        "print(a3)\n",
        "print(a4)\n",
        "\n",
        "# generate a 4x4 matrix with random values\n",
        "a5 = np.random.randn(4, 4)\n",
        "print(a5)\n",
        "\n",
        "a6 = np.eye(5,5) # 5x5 matrix with one's along the diagonal and zero's everywhere else\n",
        "# i.e., identity matrix\n",
        "print(a6)"
      ]
    },
    {
      "cell_type": "markdown",
      "source": [
        "## 1.2.1 Linear Spaces\n",
        "A linear subspace of V is a subset U ⊆ V that is closed under vector addition and scalar multiplication.\n",
        "The zero vector is always in a linear subspace.\n",
        "\n",
        "A span is a set of all linear combinations of a list of vectors.\n",
        "As such, every span is a linear subspace.\n",
        "\n",
        "A list of vectors is linearly independent if none of them can be written as a linear combination of the others.\n",
        "\n",
        "One way to check if a list of vectors (v1, v2, ... vn) is linearly independent is if the vector equation\n",
        "\n",
        "x1v1 + x2v2 + x3v3 + ... + xnvn = 0\n",
        "\n",
        "Has only the trivial solution (i.e. x = 0 vector)"
      ],
      "metadata": {
        "id": "3Ijeipjg-qoc"
      }
    },
    {
      "cell_type": "code",
      "source": [
        "# a, b, c are not linearly independent because a = b + c\n",
        "a = np.array( [1, 2, 4] )\n",
        "b = np.array( [1, 0, 2] )\n",
        "c = np.array( [0, 2, 2] )\n",
        "print(a)\n",
        "print(b + c)"
      ],
      "metadata": {
        "colab": {
          "base_uri": "https://localhost:8080/"
        },
        "id": "vwrQ2YWfB5Hg",
        "outputId": "1f799ac1-dd4f-413f-8629-94638b21a141"
      },
      "execution_count": null,
      "outputs": [
        {
          "output_type": "stream",
          "name": "stdout",
          "text": [
            "[1 2 4]\n",
            "[1 2 4]\n"
          ]
        }
      ]
    },
    {
      "cell_type": "markdown",
      "source": [
        "A basis of a linear subspace U is a list of vectors in U that span U and are linearly independent.\n",
        "This means that a basis provides a unique representation fo the vectors in a subspace.\n",
        "\n",
        "## 1.2.2 Orthogonality\n",
        "A list of vectors {v1, ... vm} is orthonormal if the vectors are pairwise orthogonal (<vi, vj> = 0 when i != j) and each has norm 1 (<vi, vi> = 1 for all i).\n",
        "\n",
        "## 1.2.3 Gram-Schmidt Process\n",
        "The Gram-Schmidt algorithm is used to obtain an orthonormal base.\n",
        "Letting a1, ..., am be linearly independent, we want to find an orthonormal basis for span(a1, ..., am).\n",
        "\n",
        "NumPy has the algorithm included in its library:"
      ],
      "metadata": {
        "id": "KZDz0QP0C2BW"
      }
    },
    {
      "cell_type": "code",
      "source": [
        "a = np.random.randn(5,4) # random 5x3 matrix\n",
        "q, r = np.linalg.qr(a) # Gram-Schmidt Process\n",
        "print(a)\n",
        "print(q) # matrix of orthonormal vectors\n",
        "print(r) # upper-triangular matrix"
      ],
      "metadata": {
        "colab": {
          "base_uri": "https://localhost:8080/"
        },
        "id": "vtgvHjUdIzpp",
        "outputId": "d665ae76-9abc-4e5c-c11e-40bc8e4a9403"
      },
      "execution_count": null,
      "outputs": [
        {
          "output_type": "stream",
          "name": "stdout",
          "text": [
            "[[-1.30318245 -0.063435    0.93802656 -0.9930304 ]\n",
            " [ 0.58315649  0.73249437 -0.68380394  0.84637159]\n",
            " [-1.13720916  0.64837597  0.56042176  1.74833545]\n",
            " [ 0.43523162  2.64851413 -0.45096347 -0.03567873]\n",
            " [-0.02527863 -2.14386742  0.33744635 -1.54745674]]\n",
            "[[-0.69443424 -0.08525363  0.20463754  0.66358724]\n",
            " [ 0.31074991 -0.16261964 -0.70035433  0.57817212]\n",
            " [-0.60599111 -0.27505794 -0.4105991  -0.42808484]\n",
            " [ 0.23192435 -0.72068414  0.49212086  0.10399182]\n",
            " [-0.01347037  0.6092981   0.2384381   0.17691255]]\n",
            "[[ 1.8766103   0.52189752 -1.31263532 -0.09430149]\n",
            " [ 0.         -3.50704734  0.40768896 -1.45102011]\n",
            " [ 0.          0.          0.29928337 -1.90036716]\n",
            " [ 0.          0.          0.         -1.19552455]]\n"
          ]
        }
      ]
    },
    {
      "cell_type": "markdown",
      "source": [
        "## 1.2.4 Eigenvalues and Eigenvectors\n",
        "Let A be a square matrix. Then λ∈R is an eigenvalue of A if there exists a nonzero vector x such that Ax=λx, in which case x is an eigenvector.\n",
        "\n",
        "Not every matrix has an eigenvalue, as seen in Example 1.2.22 from the lecture notes:\n"
      ],
      "metadata": {
        "id": "Ie8W3xBIJ4ws"
      }
    },
    {
      "cell_type": "code",
      "source": [
        "A = np.array([ [0, -1], [1 ,0]])\n",
        "lambdas, V = np.linalg.eig(A.T) # A.T produces the transposed matrix\n",
        "print(lambdas) # no real solution\n",
        "print(V)"
      ],
      "metadata": {
        "colab": {
          "base_uri": "https://localhost:8080/"
        },
        "id": "XNbSq5XmKxVl",
        "outputId": "dd181db5-b050-4175-ae0a-033f95d04c7e"
      },
      "execution_count": null,
      "outputs": [
        {
          "output_type": "stream",
          "name": "stdout",
          "text": [
            "[0.+1.j 0.-1.j]\n",
            "[[0.70710678+0.j         0.70710678-0.j        ]\n",
            " [0.        +0.70710678j 0.        -0.70710678j]]\n"
          ]
        }
      ]
    },
    {
      "cell_type": "markdown",
      "source": [
        "In general A will have at most d distinct eigenvalues, where d is the number of rows or columns in A."
      ],
      "metadata": {
        "id": "n5ra7oWoL5uy"
      }
    },
    {
      "cell_type": "markdown",
      "source": [
        "## License\n",
        "The MIT License (MIT)\n",
        "\n",
        "Copyright (c) 2022 Joshua Tenorio"
      ],
      "metadata": {
        "id": "bfPymAGRW1fd"
      }
    }
  ]
}